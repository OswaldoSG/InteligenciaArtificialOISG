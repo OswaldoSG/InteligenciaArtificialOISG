{
  "nbformat": 4,
  "nbformat_minor": 0,
  "metadata": {
    "colab": {
      "provenance": [],
      "authorship_tag": "ABX9TyN1W9l/56MjVg8Q1eCuifUf",
      "include_colab_link": true
    },
    "kernelspec": {
      "name": "python3",
      "display_name": "Python 3"
    },
    "language_info": {
      "name": "python"
    }
  },
  "cells": [
    {
      "cell_type": "markdown",
      "metadata": {
        "id": "view-in-github",
        "colab_type": "text"
      },
      "source": [
        "<a href=\"https://colab.research.google.com/github/OswaldoSG/InteligenciaArtificialOISG/blob/main/Practica2.1_neurona.ipynb\" target=\"_parent\"><img src=\"https://colab.research.google.com/assets/colab-badge.svg\" alt=\"Open In Colab\"/></a>"
      ]
    },
    {
      "cell_type": "markdown",
      "source": [
        "#Neurona aprendizaje compuerta AND\n",
        "\n",
        "#00->0\n",
        "#01->0\n",
        "#10->0\n",
        "#11->1\n",
        "\n"
      ],
      "metadata": {
        "id": "WWj3MokC5TqL"
      }
    },
    {
      "cell_type": "code",
      "source": [
        "x = [0, 0]\n",
        "w = [1, 1] #Cambiar el peso por 1, 1\n",
        "\n",
        "s = -1.5 #Umbral modificado\n",
        "for i in range(2):\n",
        "    s += x[i] * w[i]\n",
        "\n",
        "y = 1 if s > 0 else 0\n",
        "\n",
        "print(x[0], 'AND', x[1], '=', y)\n"
      ],
      "metadata": {
        "colab": {
          "base_uri": "https://localhost:8080/"
        },
        "id": "Bv62nIYM50Ck",
        "outputId": "20b1f47d-da3c-4e2e-e99b-59ff108eebb6"
      },
      "execution_count": 12,
      "outputs": [
        {
          "output_type": "stream",
          "name": "stdout",
          "text": [
            "0 AND 0 = 0\n"
          ]
        }
      ]
    }
  ]
}