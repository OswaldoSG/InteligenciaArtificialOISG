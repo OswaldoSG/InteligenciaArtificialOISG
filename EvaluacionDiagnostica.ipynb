{
  "nbformat": 4,
  "nbformat_minor": 0,
  "metadata": {
    "colab": {
      "provenance": [],
      "authorship_tag": "ABX9TyPVmmlGBOrkbHYwKJICjmYk",
      "include_colab_link": true
    },
    "kernelspec": {
      "name": "python3",
      "display_name": "Python 3"
    },
    "language_info": {
      "name": "python"
    }
  },
  "cells": [
    {
      "cell_type": "markdown",
      "metadata": {
        "id": "view-in-github",
        "colab_type": "text"
      },
      "source": [
        "<a href=\"https://colab.research.google.com/github/OswaldoSG/InteligenciaArtificialOISG/blob/main/EvaluacionDiagnostica.ipynb\" target=\"_parent\"><img src=\"https://colab.research.google.com/assets/colab-badge.svg\" alt=\"Open In Colab\"/></a>"
      ]
    },
    {
      "cell_type": "markdown",
      "source": [
        "¿Cómo se declara una lista en python?"
      ],
      "metadata": {
        "id": "09qCEvbArPgt"
      }
    },
    {
      "cell_type": "code",
      "source": [
        "my_list=[1,2,3]\n",
        "print(my_list)"
      ],
      "metadata": {
        "colab": {
          "base_uri": "https://localhost:8080/"
        },
        "id": "xhVSfT9mrHB1",
        "outputId": "01fbf76b-8602-4d0f-ed06-3630c0c70e49"
      },
      "execution_count": null,
      "outputs": [
        {
          "output_type": "stream",
          "name": "stdout",
          "text": [
            "[1, 2, 3]\n"
          ]
        }
      ]
    },
    {
      "cell_type": "markdown",
      "source": [
        "¿Qué función se usa para conocer el número de elementos en una lista?"
      ],
      "metadata": {
        "id": "7PRbkD30rXyK"
      }
    },
    {
      "cell_type": "code",
      "source": [
        "print(len(my_list))"
      ],
      "metadata": {
        "colab": {
          "base_uri": "https://localhost:8080/"
        },
        "id": "vOzZOsH7rf7m",
        "outputId": "45a48109-5559-4e28-87fe-3ec825aa0269"
      },
      "execution_count": null,
      "outputs": [
        {
          "output_type": "stream",
          "name": "stdout",
          "text": [
            "3\n"
          ]
        }
      ]
    },
    {
      "cell_type": "markdown",
      "source": [
        "¿Qué resultado obtendremos al ejecutar el siguiente código?"
      ],
      "metadata": {
        "id": "L9nwSGcNqwxp"
      }
    },
    {
      "cell_type": "code",
      "execution_count": null,
      "metadata": {
        "colab": {
          "base_uri": "https://localhost:8080/"
        },
        "id": "nNQ9AV2cphf5",
        "outputId": "b7f4c5af-0018-4292-daeb-7c9c70e90b41"
      },
      "outputs": [
        {
          "output_type": "stream",
          "name": "stdout",
          "text": [
            "[5, 4, 3, 2, 1]\n"
          ]
        }
      ],
      "source": [
        "a=[1,2,3,4,5]\n",
        "print(a[::-1])"
      ]
    },
    {
      "cell_type": "markdown",
      "source": [
        "¿Cuál es el resultado de la siguiente expresión?"
      ],
      "metadata": {
        "id": "XtTOad8PsG0Y"
      }
    },
    {
      "cell_type": "code",
      "source": [
        "print(3*\"5\"+2)"
      ],
      "metadata": {
        "colab": {
          "base_uri": "https://localhost:8080/",
          "height": 141
        },
        "id": "DnrssObCqAvj",
        "outputId": "197022d0-abf2-4361-b328-ba8f2440cc08"
      },
      "execution_count": null,
      "outputs": [
        {
          "output_type": "error",
          "ename": "TypeError",
          "evalue": "can only concatenate str (not \"int\") to str",
          "traceback": [
            "\u001b[0;31m---------------------------------------------------------------------------\u001b[0m",
            "\u001b[0;31mTypeError\u001b[0m                                 Traceback (most recent call last)",
            "\u001b[0;32m<ipython-input-2-ecf93d8422a1>\u001b[0m in \u001b[0;36m<cell line: 1>\u001b[0;34m()\u001b[0m\n\u001b[0;32m----> 1\u001b[0;31m \u001b[0mprint\u001b[0m\u001b[0;34m(\u001b[0m\u001b[0;36m3\u001b[0m\u001b[0;34m*\u001b[0m\u001b[0;34m\"5\"\u001b[0m\u001b[0;34m+\u001b[0m\u001b[0;36m2\u001b[0m\u001b[0;34m)\u001b[0m\u001b[0;34m\u001b[0m\u001b[0;34m\u001b[0m\u001b[0m\n\u001b[0m",
            "\u001b[0;31mTypeError\u001b[0m: can only concatenate str (not \"int\") to str"
          ]
        }
      ]
    },
    {
      "cell_type": "markdown",
      "source": [
        "¿Qué salida generará el siguiente código?"
      ],
      "metadata": {
        "id": "EUiZ5hQDsSOo"
      }
    },
    {
      "cell_type": "code",
      "source": [
        "def foo(x,y=[]):\n",
        "  y.append(x)\n",
        "  return y\n",
        "print(foo(1))\n",
        "print(foo(2,[]))\n",
        "print(foo(3))"
      ],
      "metadata": {
        "colab": {
          "base_uri": "https://localhost:8080/"
        },
        "id": "snNt7YgUqLPR",
        "outputId": "494ceae6-606d-4989-9335-ea13c02148e0"
      },
      "execution_count": null,
      "outputs": [
        {
          "output_type": "stream",
          "name": "stdout",
          "text": [
            "[1]\n",
            "[2]\n",
            "[1, 3]\n"
          ]
        }
      ]
    },
    {
      "cell_type": "markdown",
      "source": [
        "¿Qué resultado obtendremos al ejecutar el siguiente código?"
      ],
      "metadata": {
        "id": "WWyWM85XsYgQ"
      }
    },
    {
      "cell_type": "code",
      "source": [
        "def multiply_list(numbers, factor):\n",
        " result=[]\n",
        " for number in numbers:\n",
        "  result.append(number*factor)\n",
        " return result\n",
        "my_list=[1,2,3]\n",
        "output=multiply_list(my_list,2)\n",
        "print(output)"
      ],
      "metadata": {
        "colab": {
          "base_uri": "https://localhost:8080/"
        },
        "id": "Ts70DDQmszYc",
        "outputId": "749ecf57-d7d5-4c44-8108-b737d85bd5ea"
      },
      "execution_count": null,
      "outputs": [
        {
          "output_type": "stream",
          "name": "stdout",
          "text": [
            "[2, 4, 6]\n"
          ]
        }
      ]
    }
  ]
}