{
  "nbformat": 4,
  "nbformat_minor": 0,
  "metadata": {
    "colab": {
      "provenance": [],
      "toc_visible": true,
      "authorship_tag": "ABX9TyMv99iJKO90AY5+3egcjXAa",
      "include_colab_link": true
    },
    "kernelspec": {
      "name": "python3",
      "display_name": "Python 3"
    },
    "language_info": {
      "name": "python"
    }
  },
  "cells": [
    {
      "cell_type": "markdown",
      "metadata": {
        "id": "view-in-github",
        "colab_type": "text"
      },
      "source": [
        "<a href=\"https://colab.research.google.com/github/OswaldoSG/InteligenciaArtificialOISG/blob/main/Practica%202%20-%20Ejercicios%20en%20python%20.ipynb\" target=\"_parent\"><img src=\"https://colab.research.google.com/assets/colab-badge.svg\" alt=\"Open In Colab\"/></a>"
      ]
    },
    {
      "cell_type": "markdown",
      "source": [
        "\n",
        "\n",
        "```\n",
        "# This is formatted as code\n",
        "```\n",
        "\n",
        "# Evaluación diagnóstica"
      ],
      "metadata": {
        "id": "4q0fOk_O0nI0"
      }
    },
    {
      "cell_type": "markdown",
      "source": [
        "¿Cómo se declara una lista en python?"
      ],
      "metadata": {
        "id": "09qCEvbArPgt"
      }
    },
    {
      "cell_type": "markdown",
      "source": [
        "[link text](https://)# New Section"
      ],
      "metadata": {
        "id": "rtk9lR8B0-a8"
      }
    },
    {
      "cell_type": "code",
      "source": [
        "my_list=[1,2,3]\n",
        "print(my_list)"
      ],
      "metadata": {
        "colab": {
          "base_uri": "https://localhost:8080/"
        },
        "id": "xhVSfT9mrHB1",
        "outputId": "01fbf76b-8602-4d0f-ed06-3630c0c70e49"
      },
      "execution_count": null,
      "outputs": [
        {
          "output_type": "stream",
          "name": "stdout",
          "text": [
            "[1, 2, 3]\n"
          ]
        }
      ]
    },
    {
      "cell_type": "markdown",
      "source": [
        "¿Qué función se usa para conocer el número de elementos en una lista?"
      ],
      "metadata": {
        "id": "7PRbkD30rXyK"
      }
    },
    {
      "cell_type": "code",
      "source": [
        "print(len(my_list))"
      ],
      "metadata": {
        "colab": {
          "base_uri": "https://localhost:8080/"
        },
        "id": "vOzZOsH7rf7m",
        "outputId": "45a48109-5559-4e28-87fe-3ec825aa0269"
      },
      "execution_count": null,
      "outputs": [
        {
          "output_type": "stream",
          "name": "stdout",
          "text": [
            "3\n"
          ]
        }
      ]
    },
    {
      "cell_type": "markdown",
      "source": [
        "¿Qué resultado obtendremos al ejecutar el siguiente código?"
      ],
      "metadata": {
        "id": "L9nwSGcNqwxp"
      }
    },
    {
      "cell_type": "code",
      "execution_count": null,
      "metadata": {
        "colab": {
          "base_uri": "https://localhost:8080/"
        },
        "id": "nNQ9AV2cphf5",
        "outputId": "b7f4c5af-0018-4292-daeb-7c9c70e90b41"
      },
      "outputs": [
        {
          "output_type": "stream",
          "name": "stdout",
          "text": [
            "[5, 4, 3, 2, 1]\n"
          ]
        }
      ],
      "source": [
        "a=[1,2,3,4,5]\n",
        "print(a[::-1])"
      ]
    },
    {
      "cell_type": "markdown",
      "source": [
        "¿Cuál es el resultado de la siguiente expresión?"
      ],
      "metadata": {
        "id": "XtTOad8PsG0Y"
      }
    },
    {
      "cell_type": "code",
      "source": [
        "print(3*\"5\"+2)"
      ],
      "metadata": {
        "colab": {
          "base_uri": "https://localhost:8080/",
          "height": 141
        },
        "id": "DnrssObCqAvj",
        "outputId": "197022d0-abf2-4361-b328-ba8f2440cc08"
      },
      "execution_count": null,
      "outputs": [
        {
          "output_type": "error",
          "ename": "TypeError",
          "evalue": "can only concatenate str (not \"int\") to str",
          "traceback": [
            "\u001b[0;31m---------------------------------------------------------------------------\u001b[0m",
            "\u001b[0;31mTypeError\u001b[0m                                 Traceback (most recent call last)",
            "\u001b[0;32m<ipython-input-2-ecf93d8422a1>\u001b[0m in \u001b[0;36m<cell line: 1>\u001b[0;34m()\u001b[0m\n\u001b[0;32m----> 1\u001b[0;31m \u001b[0mprint\u001b[0m\u001b[0;34m(\u001b[0m\u001b[0;36m3\u001b[0m\u001b[0;34m*\u001b[0m\u001b[0;34m\"5\"\u001b[0m\u001b[0;34m+\u001b[0m\u001b[0;36m2\u001b[0m\u001b[0;34m)\u001b[0m\u001b[0;34m\u001b[0m\u001b[0;34m\u001b[0m\u001b[0m\n\u001b[0m",
            "\u001b[0;31mTypeError\u001b[0m: can only concatenate str (not \"int\") to str"
          ]
        }
      ]
    },
    {
      "cell_type": "markdown",
      "source": [
        "¿Qué salida generará el siguiente código?"
      ],
      "metadata": {
        "id": "EUiZ5hQDsSOo"
      }
    },
    {
      "cell_type": "code",
      "source": [
        "def foo(x,y=[]):\n",
        "  y.append(x)\n",
        "  return y\n",
        "print(foo(1))\n",
        "print(foo(2,[]))\n",
        "print(foo(3))"
      ],
      "metadata": {
        "colab": {
          "base_uri": "https://localhost:8080/"
        },
        "id": "snNt7YgUqLPR",
        "outputId": "494ceae6-606d-4989-9335-ea13c02148e0"
      },
      "execution_count": null,
      "outputs": [
        {
          "output_type": "stream",
          "name": "stdout",
          "text": [
            "[1]\n",
            "[2]\n",
            "[1, 3]\n"
          ]
        }
      ]
    },
    {
      "cell_type": "markdown",
      "source": [
        "¿Qué resultado obtendremos al ejecutar el siguiente código?"
      ],
      "metadata": {
        "id": "WWyWM85XsYgQ"
      }
    },
    {
      "cell_type": "code",
      "source": [
        "def multiply_list(numbers, factor):\n",
        " result=[]\n",
        " for number in numbers:\n",
        "  result.append(number*factor)\n",
        " return result\n",
        "my_list=[1,2,3]\n",
        "output=multiply_list(my_list,2)\n",
        "print(output)"
      ],
      "metadata": {
        "colab": {
          "base_uri": "https://localhost:8080/"
        },
        "id": "Ts70DDQmszYc",
        "outputId": "749ecf57-d7d5-4c44-8108-b737d85bd5ea"
      },
      "execution_count": null,
      "outputs": [
        {
          "output_type": "stream",
          "name": "stdout",
          "text": [
            "[2, 4, 6]\n"
          ]
        }
      ]
    },
    {
      "cell_type": "markdown",
      "source": [
        "# Práctica de python\n"
      ],
      "metadata": {
        "id": "pnQLLhv31MM2"
      }
    },
    {
      "cell_type": "code",
      "source": [
        "#Declaración de variables\n",
        "numeros =[10,15,36,98,77,34,89,58]\n",
        "print(numeros[2])\n",
        "pares = []\n",
        "impares = []\n"
      ],
      "metadata": {
        "colab": {
          "base_uri": "https://localhost:8080/"
        },
        "id": "3EsQL-qU1hYI",
        "outputId": "c02fe70b-23a5-4489-b2e2-adc806650527"
      },
      "execution_count": null,
      "outputs": [
        {
          "output_type": "stream",
          "name": "stdout",
          "text": [
            "36\n"
          ]
        }
      ]
    },
    {
      "cell_type": "code",
      "source": [
        "#Ciclo for para recorrer la lista\n",
        "for numero in numeros:\n",
        "  if numero % 2 == 0:\n",
        "   pares.append(numero)\n",
        "  else:\n",
        "   impares.append(numero)"
      ],
      "metadata": {
        "id": "Y1YAMGyG2ltS"
      },
      "execution_count": null,
      "outputs": []
    },
    {
      "cell_type": "code",
      "source": [
        "print(\"Pares:\",pares, \"total\", len(pares))\n",
        "print(\"Impares:\",impares, \"total\", len(impares))\n"
      ],
      "metadata": {
        "colab": {
          "base_uri": "https://localhost:8080/"
        },
        "id": "GLu4j5Z04HYz",
        "outputId": "731f20d1-cd63-4249-df22-d71fcccfaedb"
      },
      "execution_count": null,
      "outputs": [
        {
          "output_type": "stream",
          "name": "stdout",
          "text": [
            "Pares: [10, 36, 98, 34, 58] total 5\n",
            "Impares: [15, 77, 89] total 3\n"
          ]
        }
      ]
    },
    {
      "cell_type": "code",
      "source": [
        "#Función suam de los numeros pares\n",
        "def suma_pares(lista):\n",
        "  suma = 0\n",
        "  for numero in lista:\n",
        "    suma += numero\n",
        "  return suma"
      ],
      "metadata": {
        "id": "CAukxtAS6NzL"
      },
      "execution_count": null,
      "outputs": []
    },
    {
      "cell_type": "code",
      "source": [
        "#Impresión de números pares\n",
        "print(\"La suma de los pares es:\", suma_pares(pares))\n",
        "print(\"La suma de los impares es:\", suma_pares(impares))"
      ],
      "metadata": {
        "colab": {
          "base_uri": "https://localhost:8080/"
        },
        "id": "WzmGUL4T7V3r",
        "outputId": "63421e20-85cb-4183-e5c9-6fa3cab23fd9"
      },
      "execution_count": null,
      "outputs": [
        {
          "output_type": "stream",
          "name": "stdout",
          "text": [
            "La suma de los pares es: 236\n",
            "La suma de los impares es: 181\n"
          ]
        }
      ]
    },
    {
      "cell_type": "markdown",
      "source": [
        "\n",
        "\n",
        "# Practica 2 - Ejercicios en python\n"
      ],
      "metadata": {
        "id": "7V6NBcpeR12f"
      }
    },
    {
      "cell_type": "markdown",
      "source": [
        "1- Un taller automotriz necesita llevar un control de su inventario de repuestos. Crea un programa que permita agregar, eliminar y consultar la cantidad de repuestos disponibles, así como realizar una compra cuando el inventario de un repuesto está bajo.\n"
      ],
      "metadata": {
        "id": "CpmuzbtNSS-E"
      }
    },
    {
      "cell_type": "code",
      "source": [
        "#Declaración de los arreglos a utilizar\n",
        "inventario = []\n",
        "cantidad = []\n",
        "#Sanchez Gonzalez Oswaldo Isaac\n",
        "\n",
        "#Menu de opciones\n",
        "while True:\n",
        "    print(\n",
        "        '''--------------------------------------\n",
        "           1-Agregar repuestos\n",
        "           2-Eliminar repuestos\n",
        "           3-Ver repuestos\n",
        "           4-Salir\n",
        "          '''\n",
        "    )\n",
        "    try:\n",
        "        respuesta = int(input('Digite su opcion: '))\n",
        "    except ValueError:\n",
        "        print('Por favor, ingrese un número válido.')\n",
        "        continue\n",
        "\n",
        "    if respuesta == 1:  # Agregar productos\n",
        "        print('Agregar repuestos')\n",
        "        an = input('Ingrese el nombre de su repuesto: ')\n",
        "        ap = int(input('Ingrese la cantidad de su repuesto: '))\n",
        "\n",
        "        cantidad.append(ap)\n",
        "        inventario.append(an)\n",
        "\n",
        "    elif respuesta == 2:  # Eliminar productos\n",
        "        an = input('Digite el nombre del repuesto a eliminar: ')\n",
        "        if an in inventario:\n",
        "            posicion = inventario.index(an)\n",
        "            inventario.pop(posicion)  # Eliminar de inventario\n",
        "            cantidad.pop(posicion)    # Eliminar la cantidad asociada\n",
        "            print('Repuesto ', an, ' eliminado del inventario.')\n",
        "        else:\n",
        "            print('Respuesto ', an, ' no encontrado en el inventario.')\n",
        "\n",
        "    elif respuesta == 3:#Opcion ver repuestsos\n",
        "        if inventario:\n",
        "            print('Productos en el inventario:')\n",
        "            for i in range(len(inventario)):\n",
        "                print(inventario[i], ': ', cantidad[i], ' unidades')\n",
        "\n",
        "                # Verifica si el inventario está por debajo del límite\n",
        "                if cantidad[i] < 3:\n",
        "                    print('El producto ', inventario[i], ' está por debajo del límite mínimo.')\n",
        "                    reponer = input('¿Desea realizar una compra para reponer ' + inventario[i] + '? (s/n): ')\n",
        "                    if reponer.lower() == 's':\n",
        "                        cantidad_compra = int(input('Ingrese la cantidad a comprar de ' + inventario[i] + ': '))\n",
        "                        cantidad[i] += cantidad_compra\n",
        "                        print('Se han añadido ', cantidad_compra, ' unidades a ', inventario[i], '.')\n",
        "        else:\n",
        "            print('El inventario está vacío.')\n",
        "\n",
        "    elif respuesta == 4:#Salir\n",
        "        print('Vuela pronto')\n",
        "        break"
      ],
      "metadata": {
        "colab": {
          "base_uri": "https://localhost:8080/"
        },
        "id": "hh58w7zMSWdD",
        "outputId": "a770f636-43f1-4099-c2b5-2e30df080877"
      },
      "execution_count": null,
      "outputs": [
        {
          "output_type": "stream",
          "name": "stdout",
          "text": [
            "--------------------------------------\n",
            "           1-Agregar repuestos\n",
            "           2-Eliminar repuestos\n",
            "           3-Ver repuestos\n",
            "           4-Salir\n",
            "          \n",
            "Digite su opcion: hola\n",
            "Por favor, ingrese un número válido.\n",
            "--------------------------------------\n",
            "           1-Agregar repuestos\n",
            "           2-Eliminar repuestos\n",
            "           3-Ver repuestos\n",
            "           4-Salir\n",
            "          \n",
            "Digite su opcion: 1\n",
            "Agregar repuestos\n",
            "Ingrese el nombre de su repuesto: Rueda\n",
            "Ingrese la cantidad de su repuesto: 3\n",
            "--------------------------------------\n",
            "           1-Agregar repuestos\n",
            "           2-Eliminar repuestos\n",
            "           3-Ver repuestos\n",
            "           4-Salir\n",
            "          \n",
            "Digite su opcion: 1\n",
            "Agregar repuestos\n",
            "Ingrese el nombre de su repuesto: Llanta\n",
            "Ingrese la cantidad de su repuesto: 5\n",
            "--------------------------------------\n",
            "           1-Agregar repuestos\n",
            "           2-Eliminar repuestos\n",
            "           3-Ver repuestos\n",
            "           4-Salir\n",
            "          \n",
            "Digite su opcion: 2\n",
            "Digite el nombre del repuesto a eliminar: Llanta\n",
            "Repuesto  Llanta  eliminado del inventario.\n",
            "--------------------------------------\n",
            "           1-Agregar repuestos\n",
            "           2-Eliminar repuestos\n",
            "           3-Ver repuestos\n",
            "           4-Salir\n",
            "          \n",
            "Digite su opcion: 3\n",
            "Productos en el inventario:\n",
            "Rueda :  3  unidades\n",
            "--------------------------------------\n",
            "           1-Agregar repuestos\n",
            "           2-Eliminar repuestos\n",
            "           3-Ver repuestos\n",
            "           4-Salir\n",
            "          \n",
            "Digite su opcion: 1\n",
            "Agregar repuestos\n",
            "Ingrese el nombre de su repuesto: Parabrisas\n",
            "Ingrese la cantidad de su repuesto: 1\n",
            "--------------------------------------\n",
            "           1-Agregar repuestos\n",
            "           2-Eliminar repuestos\n",
            "           3-Ver repuestos\n",
            "           4-Salir\n",
            "          \n",
            "Digite su opcion: 3\n",
            "Productos en el inventario:\n",
            "Rueda :  3  unidades\n",
            "Parabrisas :  1  unidades\n",
            "El producto  Parabrisas  está por debajo del límite mínimo.\n",
            "¿Desea realizar una compra para reponer Parabrisas? (s/n): s\n",
            "Ingrese la cantidad a comprar de Parabrisas: 3\n",
            "Se han añadido  3  unidades a  Parabrisas .\n",
            "--------------------------------------\n",
            "           1-Agregar repuestos\n",
            "           2-Eliminar repuestos\n",
            "           3-Ver repuestos\n",
            "           4-Salir\n",
            "          \n",
            "Digite su opcion: 3\n",
            "Productos en el inventario:\n",
            "Rueda :  3  unidades\n",
            "Parabrisas :  4  unidades\n",
            "--------------------------------------\n",
            "           1-Agregar repuestos\n",
            "           2-Eliminar repuestos\n",
            "           3-Ver repuestos\n",
            "           4-Salir\n",
            "          \n",
            "Digite su opcion: 4\n",
            "Vuela pronto\n"
          ]
        }
      ]
    },
    {
      "cell_type": "markdown",
      "source": [
        "Ejercicio 2 - Una empresa de servicios a terceros ofrece proyectos de consultoría y debe llevar el control de horas trabajadas por sus empleados en diferentes proyectos. Crea un programa que calcule las horas totales trabajadas por cada empleado en varios proyectos y su costo total en función de la tarifa por hora.\n"
      ],
      "metadata": {
        "id": "iq7vY40EUxqP"
      }
    },
    {
      "cell_type": "code",
      "source": [
        "empleado = []  # Lista de empleados\n",
        "horas_trabajadas = []  # Lista de las horas trabajadas por empleado\n",
        "tarifa_por_hora = []  # Lista de la tarifa por hora de cada empleado\n",
        "#Sanchez Gonzalez Oswaldo Isaac\n",
        "while True:\n",
        "    print(\n",
        "        '''--------------------------------------\n",
        "           1-Agregar empleado\n",
        "           2-Agregar horas trabajadas\n",
        "           3-Calcular totales\n",
        "           4-Mostrar empleados\n",
        "           5-Salir\n",
        "          '''\n",
        "    )\n",
        "\n",
        "    try:\n",
        "        respuesta = int(input('Digite su opcion: '))\n",
        "    except ValueError:\n",
        "        print('Por favor, ingrese un número válido.')\n",
        "        continue\n",
        "\n",
        "    if respuesta == 1:#Guaarda el nombre, hora y tarifa del empleado\n",
        "        nombre = input('Ingrese el nombre del empleado: ')\n",
        "        tarifa = float(input('Ingrese la tarifa por hora para ' + nombre + ': '))\n",
        "        empleado.append(nombre)\n",
        "        horas_trabajadas.append(0)  # Inicia con 0 horas trabajadas\n",
        "        tarifa_por_hora.append(tarifa)\n",
        "        print('Empleado ', nombre, ' agregado correctamente.')\n",
        "\n",
        "    elif respuesta == 2:#Modifica las horas del empleado\n",
        "        nombre = input('Ingrese el nombre del empleado: ')\n",
        "        if nombre in empleado:\n",
        "            indice = empleado.index(nombre)\n",
        "            horas = float(input('Ingrese las horas trabajadas por ' + nombre + ': '))\n",
        "            horas_trabajadas[indice] += horas  # Se suman las horas trabajadas\n",
        "            print('Se han añadido ', horas, ' horas a ', nombre, '.')\n",
        "        else:\n",
        "            print('El empleado ', nombre, ' no está registrado.')\n",
        "\n",
        "    elif respuesta == 3:#Se calcula individualmente el costo total\n",
        "        nombre = input('Ingrese el nombre del empleado: ')\n",
        "        if nombre in empleado:\n",
        "            indice = empleado.index(nombre)\n",
        "            horas_totales = horas_trabajadas[indice]\n",
        "            tarifa = tarifa_por_hora[indice]\n",
        "            costo_total = horas_totales * tarifa\n",
        "            print('El total de horas trabajadas por ', nombre, ' es ', horas_totales, ' horas.')\n",
        "            print('El costo total es ', costo_total, ' pesos.')\n",
        "        else:\n",
        "            print('El empleado ', nombre, ' no está registrado.')\n",
        "\n",
        "    elif respuesta == 4:#Ver empleados\n",
        "        if len(empleado) == 0:\n",
        "            print('No hay empleados registrados.')\n",
        "        else:\n",
        "            print('Empleados registrados:')\n",
        "            for i in range(len(empleado)):\n",
        "                print(empleado[i], ': ', horas_trabajadas[i], ' horas trabajadas a ', tarifa_por_hora[i], ' por hora')\n",
        "\n",
        "    elif respuesta == 5:#Salida\n",
        "        print('Vuelva pronto')\n",
        "        break\n",
        ""
      ],
      "metadata": {
        "colab": {
          "base_uri": "https://localhost:8080/"
        },
        "id": "KUGchP2oU7We",
        "outputId": "5d091710-7df3-4802-b567-ae55809308c5"
      },
      "execution_count": null,
      "outputs": [
        {
          "output_type": "stream",
          "name": "stdout",
          "text": [
            "--------------------------------------\n",
            "           1-Agregar empleado\n",
            "           2-Agregar horas trabajadas\n",
            "           3-Calcular totales\n",
            "           4-Mostrar empleados\n",
            "           5-Salir\n",
            "          \n",
            "Digite su opcion: 1\n",
            "Ingrese el nombre del empleado: Pepe\n",
            "Ingrese la tarifa por hora para Pepe: 40\n",
            "Empleado  Pepe  agregado correctamente.\n",
            "--------------------------------------\n",
            "           1-Agregar empleado\n",
            "           2-Agregar horas trabajadas\n",
            "           3-Calcular totales\n",
            "           4-Mostrar empleados\n",
            "           5-Salir\n",
            "          \n",
            "Digite su opcion: 1\n",
            "Ingrese el nombre del empleado: Juan\n",
            "Ingrese la tarifa por hora para Juan: 35\n",
            "Empleado  Juan  agregado correctamente.\n",
            "--------------------------------------\n",
            "           1-Agregar empleado\n",
            "           2-Agregar horas trabajadas\n",
            "           3-Calcular totales\n",
            "           4-Mostrar empleados\n",
            "           5-Salir\n",
            "          \n",
            "Digite su opcion: 2\n",
            "Ingrese el nombre del empleado: Pepe\n",
            "Ingrese las horas trabajadas por Pepe: 30\n",
            "Se han añadido  30.0  horas a  Pepe .\n",
            "--------------------------------------\n",
            "           1-Agregar empleado\n",
            "           2-Agregar horas trabajadas\n",
            "           3-Calcular totales\n",
            "           4-Mostrar empleados\n",
            "           5-Salir\n",
            "          \n",
            "Digite su opcion: 2\n",
            "Ingrese el nombre del empleado: Juan\n",
            "Ingrese las horas trabajadas por Juan: 40\n",
            "Se han añadido  40.0  horas a  Juan .\n",
            "--------------------------------------\n",
            "           1-Agregar empleado\n",
            "           2-Agregar horas trabajadas\n",
            "           3-Calcular totales\n",
            "           4-Mostrar empleados\n",
            "           5-Salir\n",
            "          \n",
            "Digite su opcion: 3\n",
            "Ingrese el nombre del empleado: Pepe\n",
            "El total de horas trabajadas por  Pepe  es  30.0  horas.\n",
            "El costo total es  1200.0  pesos.\n",
            "--------------------------------------\n",
            "           1-Agregar empleado\n",
            "           2-Agregar horas trabajadas\n",
            "           3-Calcular totales\n",
            "           4-Mostrar empleados\n",
            "           5-Salir\n",
            "          \n",
            "Digite su opcion: 4\n",
            "Empleados registrados:\n",
            "Pepe :  30.0  horas trabajadas a  40.0  por hora\n",
            "Juan :  40.0  horas trabajadas a  35.0  por hora\n",
            "--------------------------------------\n",
            "           1-Agregar empleado\n",
            "           2-Agregar horas trabajadas\n",
            "           3-Calcular totales\n",
            "           4-Mostrar empleados\n",
            "           5-Salir\n",
            "          \n",
            "Digite su opcion: 5\n",
            "Vuelva pronto\n"
          ]
        }
      ]
    }
  ]
}