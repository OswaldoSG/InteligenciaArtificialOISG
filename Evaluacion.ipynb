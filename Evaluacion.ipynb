{
  "nbformat": 4,
  "nbformat_minor": 0,
  "metadata": {
    "colab": {
      "provenance": [],
      "toc_visible": true,
      "authorship_tag": "ABX9TyPKLKwr6Fh+MWkVEf7kEdRK",
      "include_colab_link": true
    },
    "kernelspec": {
      "name": "python3",
      "display_name": "Python 3"
    },
    "language_info": {
      "name": "python"
    }
  },
  "cells": [
    {
      "cell_type": "markdown",
      "metadata": {
        "id": "view-in-github",
        "colab_type": "text"
      },
      "source": [
        "<a href=\"https://colab.research.google.com/github/OswaldoSG/InteligenciaArtificialOISG/blob/main/Evaluacion.ipynb\" target=\"_parent\"><img src=\"https://colab.research.google.com/assets/colab-badge.svg\" alt=\"Open In Colab\"/></a>"
      ]
    },
    {
      "cell_type": "markdown",
      "source": [
        "# Evaluacion\n",
        "Crear un notebook en colab a partir del programa base de la compuerta AND\n",
        "Modificar para que funcione con las dos compuertas AND y OR\n",
        "Criterios de aceptación: El programa va a solicitar los valores del datashet para X0 y X1, por lo cual la impresión de resultados debe mostrar la compuerta AND y la compuerta OR (Y).\n",
        "Menu interactivo donde pregunte si quiero introducir otro datashet\n",
        "\n",
        "#Compuerta AND\n",
        "#00 → 0\n",
        "#01 → 0\n",
        "#10 → 0\n",
        "#11 → 1\n",
        "#Compuerta OR\n",
        "#00 → 0\n",
        "#01 → 1\n",
        "#10 → 1\n",
        "#11 → 1\n"
      ],
      "metadata": {
        "id": "8OJ6Sz7Q9WDW"
      }
    },
    {
      "cell_type": "code",
      "source": [
        "x = []#Arreglo de entradas\n",
        "while True:\n",
        "    print(\n",
        "        '''--------------------------------------\n",
        "           1- Ingresar entradas\n",
        "           2- Compuerta AND\n",
        "           3- Compuerta OR\n",
        "           4- Salir\n",
        "          '''\n",
        "    )\n",
        "\n",
        "    try:\n",
        "        respuesta = int(input('Digite su opción: '))\n",
        "    except ValueError:\n",
        "        print('Por favor, ingrese un número válido.')\n",
        "\n",
        "    if respuesta == 1:\n",
        "        x.clear()  # Limpia las entradas anteriores antes de ingresar nuevas\n",
        "        while len(x) < 2:\n",
        "            try:\n",
        "                numero = int(input('Digite un número (0 o 1): '))\n",
        "                if numero not in [0, 1]:\n",
        "                    raise ValueError\n",
        "                x.append(numero)\n",
        "            except ValueError:\n",
        "                print('Digite solo números dentro del rango 0-1')\n",
        "\n",
        "    elif respuesta == 2:#Compuerta AND\n",
        "        if len(x) < 2:\n",
        "            print('Ingrese al menos dos números antes de usar la compuerta AND.')\n",
        "        else:\n",
        "            w = [1, 1]\n",
        "            s = -1.5\n",
        "            for i in range(2):\n",
        "                s += x[i] * w[i]\n",
        "\n",
        "            y = 1 if s > 0 else 0\n",
        "            print(x[0], 'AND', x[1], '=', y)\n",
        "\n",
        "    elif respuesta == 3:#Compuerta OR\n",
        "        if len(x) < 2:\n",
        "            print('Ingrese al menos dos números antes de usar la compuerta OR.')\n",
        "        else:\n",
        "            w = [10, 10.5]\n",
        "            s = -1.5\n",
        "            for i in range(2):\n",
        "                s += x[i] * w[i]\n",
        "\n",
        "            y = 1 if s > 0 else 0\n",
        "            print(x[0], 'OR', x[1], '=', y)\n",
        "\n",
        "    elif respuesta == 4:\n",
        "        print('Saliendo del sistema')\n",
        "        break\n",
        "\n",
        "    else:\n",
        "        print('Opción no válida. Por favor, elija una opción del menú.')"
      ],
      "metadata": {
        "colab": {
          "base_uri": "https://localhost:8080/"
        },
        "id": "OgJkWC0r9bEP",
        "outputId": "c485c9a8-93cf-42e3-87a8-d538854a4831"
      },
      "execution_count": 3,
      "outputs": [
        {
          "output_type": "stream",
          "name": "stdout",
          "text": [
            "--------------------------------------\n",
            "           1- Ingresar entradas\n",
            "           2- Compuerta AND\n",
            "           3- Compuerta OR\n",
            "           4- Salir\n",
            "          \n",
            "Digite su opción: 1\n",
            "Digite un número (0 o 1): 1\n",
            "Digite un número (0 o 1): 0\n",
            "--------------------------------------\n",
            "           1- Ingresar entradas\n",
            "           2- Compuerta AND\n",
            "           3- Compuerta OR\n",
            "           4- Salir\n",
            "          \n",
            "Digite su opción: 2\n",
            "1 AND 0 = 0\n",
            "--------------------------------------\n",
            "           1- Ingresar entradas\n",
            "           2- Compuerta AND\n",
            "           3- Compuerta OR\n",
            "           4- Salir\n",
            "          \n",
            "Digite su opción: 3\n",
            "1 OR 0 = 1\n",
            "--------------------------------------\n",
            "           1- Ingresar entradas\n",
            "           2- Compuerta AND\n",
            "           3- Compuerta OR\n",
            "           4- Salir\n",
            "          \n",
            "Digite su opción: 1\n",
            "Digite un número (0 o 1): 0\n",
            "Digite un número (0 o 1): 0\n",
            "--------------------------------------\n",
            "           1- Ingresar entradas\n",
            "           2- Compuerta AND\n",
            "           3- Compuerta OR\n",
            "           4- Salir\n",
            "          \n",
            "Digite su opción: 2\n",
            "0 AND 0 = 0\n",
            "--------------------------------------\n",
            "           1- Ingresar entradas\n",
            "           2- Compuerta AND\n",
            "           3- Compuerta OR\n",
            "           4- Salir\n",
            "          \n",
            "Digite su opción: 3\n",
            "0 OR 0 = 0\n",
            "--------------------------------------\n",
            "           1- Ingresar entradas\n",
            "           2- Compuerta AND\n",
            "           3- Compuerta OR\n",
            "           4- Salir\n",
            "          \n",
            "Digite su opción: 4\n",
            "Saliendo del sistema\n"
          ]
        }
      ]
    }
  ]
}